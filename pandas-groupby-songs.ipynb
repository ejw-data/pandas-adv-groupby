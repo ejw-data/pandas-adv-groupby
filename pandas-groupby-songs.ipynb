{
 "cells": [
  {
   "cell_type": "markdown",
   "id": "24f46e81",
   "metadata": {},
   "source": [
    "# Pandas Groupby Used to Find Ordered Data\n",
    "\n",
    "### Purpose:  Often users feel like they need to loop through pandas but in many cases this is not necessary if a consistent pattern can be found.  If a pattern is not consistent then a for loop may be needed with highly specific logic to obtain the correct values.\n",
    "\n",
    "###  Objective:  In this file, I clean data that has some errors that would prevent groupby and other functions from being applied.  Step 1 is to clean the data and step two is to show how pandas can be used to find the first two records, indicating overall ranking for that year, of each year.\n"
   ]
  },
  {
   "cell_type": "code",
   "execution_count": null,
   "id": "deb6032c",
   "metadata": {},
   "outputs": [],
   "source": [
    "# References\n",
    "import pandas as pd\n",
    "import matplotlib.pyplot as plt"
   ]
  },
  {
   "cell_type": "code",
   "execution_count": null,
   "id": "485723af",
   "metadata": {},
   "outputs": [],
   "source": [
    "df = pd.read_csv(\"./data/Billboard.csv\")"
   ]
  },
  {
   "cell_type": "code",
   "execution_count": null,
   "id": "4922dd13",
   "metadata": {},
   "outputs": [],
   "source": []
  },
  {
   "cell_type": "code",
   "execution_count": null,
   "id": "059dcb5a",
   "metadata": {},
   "outputs": [],
   "source": []
  },
  {
   "cell_type": "code",
   "execution_count": null,
   "id": "03817ad6",
   "metadata": {},
   "outputs": [],
   "source": []
  },
  {
   "cell_type": "code",
   "execution_count": null,
   "id": "4d3d513f",
   "metadata": {},
   "outputs": [],
   "source": []
  }
 ],
 "metadata": {
  "kernelspec": {
   "display_name": "Python [conda env:PythonData38]",
   "language": "python",
   "name": "conda-env-PythonData38-py"
  },
  "language_info": {
   "codemirror_mode": {
    "name": "ipython",
    "version": 3
   },
   "file_extension": ".py",
   "mimetype": "text/x-python",
   "name": "python",
   "nbconvert_exporter": "python",
   "pygments_lexer": "ipython3",
   "version": "3.8.8"
  }
 },
 "nbformat": 4,
 "nbformat_minor": 5
}
